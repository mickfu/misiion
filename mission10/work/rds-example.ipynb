{
 "cells": [
  {
   "cell_type": "code",
   "execution_count": 2,
   "metadata": {},
   "outputs": [
    {
     "name": "stdout",
     "output_type": "stream",
     "text": [
      "Requirement already satisfied: pymysql in /opt/conda/lib/python3.7/site-packages (0.9.3)\r\n"
     ]
    }
   ],
   "source": [
    "#測試有沒有安裝成功\n",
    "!pip install pymysql "
   ]
  },
  {
   "cell_type": "code",
   "execution_count": 5,
   "metadata": {},
   "outputs": [],
   "source": [
    "#引用套件\n",
    "import pymysql\n",
    "\n",
    "\n",
    "\n",
    "\n",
    "#連線進資料庫\n",
    "\n",
    "conn = pymysql.connect(host='m10.cc104.mysql',\n",
    "                    user='root',\n",
    "                     password='iii',\n",
    "                    database='mysql',\n",
    "                     charset='utf8')\n",
    "\n",
    "#獲取游標\n",
    "cursor = conn.cursor()\n",
    "\n",
    "#定義要執行的SQL\n",
    "#創建TABLE 名字USER\n",
    "\n",
    "sql=\"\"\"\n",
    "CREATE TABLE USER (\n",
    "id INT auto_increment PRIMARY KEY ,\n",
    "name CHAR(10) NOT NULL UNIQUE,\n",
    "age TINYINT NOT NULL\n",
    ")ENGINE=innodb DEFAULT CHARSET=utf8;\n",
    "\"\"\"\n",
    "#執行SQL語句\n",
    "cursor.execute(sql)\n",
    "\n",
    "#關閉對象\n",
    "cursor.close()\n",
    "\n",
    "#關閉資料庫連接\n",
    "#conn.close()\n"
   ]
  },
  {
   "cell_type": "code",
   "execution_count": 9,
   "metadata": {},
   "outputs": [],
   "source": [
    "#插入資料\n",
    "#引入套件\n",
    "import pymysql\n",
    "\n",
    "#連接資料庫\n",
    "\n",
    "conn = pymysql.connect(host='m10.cc104.mysql',\n",
    "                    user='root',\n",
    "                     password='iii',\n",
    "                    database='mysql',\n",
    "                     charset='utf8')\n",
    "#得到一個可執行的對象\n",
    "\n",
    "cursor = conn.cursor()\n",
    "\n",
    "sql = \"INSERT INTO USER(name, age) VALUES (%s, %s);\"\n",
    "name = \"mickfu\"\n",
    "age = 32\n",
    "\n",
    "#執行語句\n",
    "cursor.execute(sql, [name, age])\n",
    "\n",
    "#提交\n",
    "conn.commit()\n",
    "cursor.close()\n",
    "conn.close()\n",
    "\n"
   ]
  },
  {
   "cell_type": "code",
   "execution_count": 11,
   "metadata": {},
   "outputs": [
    {
     "name": "stdout",
     "output_type": "stream",
     "text": [
      "id name age\n",
      "1 mickfu 32\n"
     ]
    }
   ],
   "source": [
    "#查詢資料\n",
    "#引入套件\n",
    "import pymysql\n",
    "\n",
    "#連接database\n",
    "\n",
    "conn = pymysql.connect(host='m10.cc104.mysql',\n",
    "                    user='root',\n",
    "                     password='iii',\n",
    "                    database='mysql',\n",
    "                     charset='utf8')\n",
    "\n",
    "#得到一個對象\n",
    "cur = conn.cursor()\n",
    "\n",
    "#查詢\n",
    "#編寫sql查詢語句，user對應TABLE\n",
    "\n",
    "sql = \"SELECT * FROM USER\"\n",
    "try:\n",
    "    cur.execute(sql)     \n",
    "    #執行sql\n",
    "    \n",
    "    results = cur.fetchall() \n",
    "    #獲取紀錄\n",
    "    print(\"id\",\"name\",\"age\")\n",
    "    #結果\n",
    "    for row in results :\n",
    "        id = row[0]\n",
    "        name = row[1]\n",
    "        age = row[2]\n",
    "        print(id,name,age)\n",
    "except Exception as e:\n",
    "    raise e\n",
    "finally:\n",
    "    conn.close()\n",
    "        #關閉\n",
    "\n",
    "\n",
    "\n",
    "\n"
   ]
  },
  {
   "cell_type": "code",
   "execution_count": null,
   "metadata": {},
   "outputs": [],
   "source": []
  }
 ],
 "metadata": {
  "kernelspec": {
   "display_name": "Python 3",
   "language": "python",
   "name": "python3"
  },
  "language_info": {
   "codemirror_mode": {
    "name": "ipython",
    "version": 3
   },
   "file_extension": ".py",
   "mimetype": "text/x-python",
   "name": "python",
   "nbconvert_exporter": "python",
   "pygments_lexer": "ipython3",
   "version": "3.7.1"
  }
 },
 "nbformat": 4,
 "nbformat_minor": 2
}
