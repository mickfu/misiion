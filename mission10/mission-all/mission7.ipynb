{
 "cells": [
  {
   "cell_type": "code",
   "execution_count": null,
   "metadata": {},
   "outputs": [
    {
     "name": "stdout",
     "output_type": "stream",
     "text": [
      "Requirement already satisfied: flask in c:\\python37\\lib\\site-packages (1.0.2)\n",
      "Requirement already satisfied: itsdangerous>=0.24 in c:\\python37\\lib\\site-packages (from flask) (1.1.0)\n",
      "Requirement already satisfied: Jinja2>=2.10 in c:\\python37\\lib\\site-packages (from flask) (2.10)\n",
      "Requirement already satisfied: click>=5.1 in c:\\python37\\lib\\site-packages (from flask) (7.0)\n",
      "Requirement already satisfied: Werkzeug>=0.14 in c:\\python37\\lib\\site-packages (from flask) (0.14.1)\n",
      "Requirement already satisfied: MarkupSafe>=0.23 in c:\\python37\\lib\\site-packages (from Jinja2>=2.10->flask) (1.1.0)\n",
      " * Serving Flask app \"__main__\" (lazy loading)\n",
      " * Environment: production\n",
      "   WARNING: Do not use the development server in a production environment.\n",
      "   Use a production WSGI server instead.\n",
      " * Debug mode: off\n"
     ]
    },
    {
     "name": "stderr",
     "output_type": "stream",
     "text": [
      " * Running on http://0.0.0.0:5000/ (Press CTRL+C to quit)\n",
      "10.120.23.211 - - [12/Jan/2019 13:47:54] \"POST / HTTP/1.1\" 405 -\n",
      "10.120.23.211 - - [12/Jan/2019 13:48:20] \"GET / HTTP/1.1\" 200 -\n",
      "10.120.23.211 - - [12/Jan/2019 13:50:14] \"GET /?id=123. HTTP/1.1\" 200 -\n",
      "10.120.23.211 - - [12/Jan/2019 13:50:42] \"GET /?=123456 HTTP/1.1\" 200 -\n",
      "10.120.23.211 - - [12/Jan/2019 13:51:50] \"GET /?id=chicken%20legs%20good HTTP/1.1\" 200 -\n"
     ]
    }
   ],
   "source": [
    "#安裝套件\n",
    "!pip install flask\n",
    "\"\"\"\n",
    "\n",
    "flask get 結合query string\n",
    "使用時查詢http://10.120.23.211:5000?hello=iii\n",
    "\n",
    "\n",
    "\"\"\"\n",
    "\n",
    "\n",
    "#引用套件\n",
    "from flask import Flask, request, abort, jsonify\n",
    "\n",
    "#增加flask app啟動點\n",
    "app = Flask(__name__,static_url_path = \"/images\" , static_folder = \"./images/\" )\n",
    "\n",
    "#給一個可訪問的路徑/\n",
    "@app.route('/',methods=['get'])\n",
    "\n",
    "def geelo_world():\n",
    "    #取用用戶的querystring,用戶欄位輸入的是id的內容值\n",
    "    #192.168.50.195:5000?id=輸入的值\n",
    "    t=request.args.get('id')\n",
    "    #轉成dict\n",
    "    jsonDict={'id':t}\n",
    "    #轉成json並回傳在網頁上\n",
    "    return jsonify(jsonDict)\n",
    "#啟用伺服器\n",
    "if __name__==\"__main__\":\n",
    "   app.run(host='0.0.0.0')"
   ]
  },
  {
   "cell_type": "code",
   "execution_count": null,
   "metadata": {},
   "outputs": [],
   "source": []
  }
 ],
 "metadata": {
  "kernelspec": {
   "display_name": "Python 3",
   "language": "python",
   "name": "python3"
  },
  "language_info": {
   "codemirror_mode": {
    "name": "ipython",
    "version": 3
   },
   "file_extension": ".py",
   "mimetype": "text/x-python",
   "name": "python",
   "nbconvert_exporter": "python",
   "pygments_lexer": "ipython3",
   "version": "3.7.1"
  }
 },
 "nbformat": 4,
 "nbformat_minor": 2
}
