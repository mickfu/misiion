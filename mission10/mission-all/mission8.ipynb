{
 "cells": [
  {
   "cell_type": "code",
   "execution_count": null,
   "metadata": {},
   "outputs": [
    {
     "name": "stdout",
     "output_type": "stream",
     "text": [
      "Requirement already satisfied: flask in c:\\python37\\lib\\site-packages (1.0.2)\n",
      "Requirement already satisfied: itsdangerous>=0.24 in c:\\python37\\lib\\site-packages (from flask) (1.1.0)\n",
      "Requirement already satisfied: Jinja2>=2.10 in c:\\python37\\lib\\site-packages (from flask) (2.10)\n",
      "Requirement already satisfied: Werkzeug>=0.14 in c:\\python37\\lib\\site-packages (from flask) (0.14.1)\n",
      "Requirement already satisfied: click>=5.1 in c:\\python37\\lib\\site-packages (from flask) (7.0)\n",
      "Requirement already satisfied: MarkupSafe>=0.23 in c:\\python37\\lib\\site-packages (from Jinja2>=2.10->flask) (1.1.0)\n",
      "Requirement already satisfied: boto3 in c:\\python37\\lib\\site-packages (1.9.79)\n",
      "Requirement already satisfied: botocore<1.13.0,>=1.12.79 in c:\\python37\\lib\\site-packages (from boto3) (1.12.79)\n",
      "Requirement already satisfied: jmespath<1.0.0,>=0.7.1 in c:\\python37\\lib\\site-packages (from boto3) (0.9.3)\n",
      "Requirement already satisfied: s3transfer<0.2.0,>=0.1.10 in c:\\python37\\lib\\site-packages (from boto3) (0.1.13)\n",
      "Requirement already satisfied: python-dateutil<3.0.0,>=2.1; python_version >= \"2.7\" in c:\\python37\\lib\\site-packages (from botocore<1.13.0,>=1.12.79->boto3) (2.7.5)\n",
      "Requirement already satisfied: docutils>=0.10 in c:\\python37\\lib\\site-packages (from botocore<1.13.0,>=1.12.79->boto3) (0.14)\n",
      "Requirement already satisfied: urllib3<1.25,>=1.20; python_version >= \"3.4\" in c:\\python37\\lib\\site-packages (from botocore<1.13.0,>=1.12.79->boto3) (1.24.1)\n",
      "Requirement already satisfied: six>=1.5 in c:\\python37\\lib\\site-packages (from python-dateutil<3.0.0,>=2.1; python_version >= \"2.7\"->botocore<1.13.0,>=1.12.79->boto3) (1.12.0)\n",
      "Requirement already satisfied: boto3 in c:\\python37\\lib\\site-packages (1.9.79)\n",
      "Requirement already satisfied: awscli in c:\\python37\\lib\\site-packages (1.16.89)\n",
      "Requirement already satisfied: s3transfer<0.2.0,>=0.1.10 in c:\\python37\\lib\\site-packages (from boto3) (0.1.13)\n",
      "Requirement already satisfied: jmespath<1.0.0,>=0.7.1 in c:\\python37\\lib\\site-packages (from boto3) (0.9.3)\n",
      "Requirement already satisfied: botocore<1.13.0,>=1.12.79 in c:\\python37\\lib\\site-packages (from boto3) (1.12.79)\n",
      "Requirement already satisfied: docutils>=0.10 in c:\\python37\\lib\\site-packages (from awscli) (0.14)\n",
      "Requirement already satisfied: rsa<=3.5.0,>=3.1.2 in c:\\python37\\lib\\site-packages (from awscli) (3.4.2)\n",
      "Collecting colorama<=0.3.9,>=0.2.5 (from awscli)\n",
      "  Using cached https://files.pythonhosted.org/packages/db/c8/7dcf9dbcb22429512708fe3a547f8b6101c0d02137acbd892505aee57adf/colorama-0.3.9-py2.py3-none-any.whl\n",
      "Requirement already satisfied: PyYAML<=3.13,>=3.10 in c:\\python37\\lib\\site-packages (from awscli) (3.13)\n",
      "Requirement already satisfied: python-dateutil<3.0.0,>=2.1; python_version >= \"2.7\" in c:\\python37\\lib\\site-packages (from botocore<1.13.0,>=1.12.79->boto3) (2.7.5)\n",
      "Requirement already satisfied: urllib3<1.25,>=1.20; python_version >= \"3.4\" in c:\\python37\\lib\\site-packages (from botocore<1.13.0,>=1.12.79->boto3) (1.24.1)\n",
      "Requirement already satisfied: pyasn1>=0.1.3 in c:\\python37\\lib\\site-packages (from rsa<=3.5.0,>=3.1.2->awscli) (0.4.5)\n",
      "Requirement already satisfied: six>=1.5 in c:\\python37\\lib\\site-packages (from python-dateutil<3.0.0,>=2.1; python_version >= \"2.7\"->botocore<1.13.0,>=1.12.79->boto3) (1.12.0)\n",
      "Installing collected packages: colorama\n",
      "  Found existing installation: colorama 0.4.1\n",
      "    Uninstalling colorama-0.4.1:\n",
      "      Successfully uninstalled colorama-0.4.1\n",
      "Successfully installed colorama-0.3.9\n",
      " * Serving Flask app \"__main__\" (lazy loading)\n",
      " * Environment: production\n",
      "   WARNING: Do not use the development server in a production environment.\n",
      "   Use a production WSGI server instead.\n",
      " * Debug mode: off\n"
     ]
    },
    {
     "name": "stderr",
     "output_type": "stream",
     "text": [
      " * Running on http://0.0.0.0:5000/ (Press CTRL+C to quit)\n",
      "10.120.23.211 - - [16/Jan/2019 20:12:06] \"POST / HTTP/1.1\" 200 -\n"
     ]
    },
    {
     "name": "stdout",
     "output_type": "stream",
     "text": [
      "{'ETag': '\"33c67077b9caa881cf2b8d477986dc1d\"',\n",
      " 'ResponseMetadata': {'HTTPHeaders': {'content-length': '0',\n",
      "                                      'date': 'Wed, 16 Jan 2019 12:12:06 GMT',\n",
      "                                      'etag': '\"33c67077b9caa881cf2b8d477986dc1d\"',\n",
      "                                      'server': 'AmazonS3',\n",
      "                                      'x-amz-id-2': '9GnUWfS3JiUF4iwIlGJPtDcftqWekIGF6FEi1sE/mWopH5CYT73ssdGmH6AIp529ba1vKfR+grg=',\n",
      "                                      'x-amz-request-id': '1AC1C62A92ACB51D'},\n",
      "                      'HTTPStatusCode': 200,\n",
      "                      'HostId': '9GnUWfS3JiUF4iwIlGJPtDcftqWekIGF6FEi1sE/mWopH5CYT73ssdGmH6AIp529ba1vKfR+grg=',\n",
      "                      'RequestId': '1AC1C62A92ACB51D',\n",
      "                      'RetryAttempts': 0}}\n",
      "=============上傳成功================\n"
     ]
    }
   ],
   "source": [
    "#安裝套件\n",
    "!pip install flask \n",
    "!pip install boto3\n",
    "!pip install boto3 awscli\n",
    "\n",
    "\n",
    "#引用套件\n",
    "\n",
    "from flask import Flask, request, jsonify\n",
    "import boto3\n",
    "from pprint import pprint\n",
    "import os \n",
    "import shutil\n",
    "\n",
    "#給予flask啟動點\n",
    "app = Flask(__name__,static_url_path = \"/images\" , static_folder = \"./images/\" )\n",
    "\n",
    "#給啟動點增加訪問路徑'/',使用post方法訪問\n",
    "\n",
    "@app.route('/',methods=['POST'])\n",
    "def leg():\n",
    "    t=request.get_json()\n",
    "        #取得用戶json的nickname,並且組成{'nickname':'XXXXX'}\n",
    "    jsonDict={'LBH':t.get('LBH','chicken leg taste good!')}\n",
    "    getbody = str(jsonDict)\n",
    "        \n",
    "        #開一個檔案，寫入，關閉\n",
    "    missionFile = open('mission8.txt','w')\n",
    "    missionFile.write(getbody)\n",
    "    missionFile.close()\n",
    "        \n",
    "        #上傳到S3\n",
    "        #啟用S3客戶端\n",
    "        \n",
    "    s3resource = boto3.resource('s3')\n",
    "        \n",
    "        #使用s3客戶端上傳檔案到s3的butket(iii-tutorial-v2下的student1裡)\n",
    "        \n",
    "    uploadObject = s3resource.Object('iii-tutorial-v2', 'student1/mission8.txt').put(Body=open('./mission8.txt', 'rb'))\n",
    "    pprint(uploadObject)\n",
    "    \n",
    "    #瀏覽s3的butket(iii-tutorial-v2下student1的物件)\n",
    "    \n",
    "    print(\"=============上傳成功================\")\n",
    "    return \"update ok\"\n",
    "if __name__ == \"__main__\":\n",
    "    app.run(host='0.0.0.0')\n",
    "    "
   ]
  },
  {
   "cell_type": "code",
   "execution_count": null,
   "metadata": {},
   "outputs": [],
   "source": []
  }
 ],
 "metadata": {
  "kernelspec": {
   "display_name": "Python 3",
   "language": "python",
   "name": "python3"
  },
  "language_info": {
   "codemirror_mode": {
    "name": "ipython",
    "version": 3
   },
   "file_extension": ".py",
   "mimetype": "text/x-python",
   "name": "python",
   "nbconvert_exporter": "python",
   "pygments_lexer": "ipython3",
   "version": "3.7.1"
  }
 },
 "nbformat": 4,
 "nbformat_minor": 2
}
