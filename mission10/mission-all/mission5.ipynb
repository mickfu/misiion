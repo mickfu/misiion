{
 "cells": [
  {
   "cell_type": "code",
   "execution_count": null,
   "metadata": {},
   "outputs": [],
   "source": [
    "#使用套件\n",
    "import requests\n",
    "import os\n",
    "import shutil\n",
    "\n",
    "#擷取目的網頁資料\n",
    "fupon= requests.get('https://jsonplaceholder.typicode.com/users')\n",
    "\n",
    "#轉成json輸出\n",
    "x=fupon.json() \n",
    "\n",
    "#擷取第2-5筆資料\n",
    "\n",
    "x[1:5]\n",
    "\n",
    "data=x[1:5]\n",
    "\n",
    "data\n",
    "\n",
    "#偵測時間\n",
    "import datetime\n",
    "nowUtcUnixTime = datetime.datetime.utcnow().timestamp()\n",
    "\n",
    "#把各種細節,整合成檔名\n",
    "fileName = str(nowUtcUnixTime) + '.txt'\n",
    "\n",
    "#以新檔名開一個新檔案, 將新json寫入檔案中然後關閉檔案\n",
    "import json\n",
    "newFile = open(fileName,'w')\n",
    "\n",
    "#將json轉回字串,寫成檔案\n",
    "newFile.write(json.dumps(data))\n",
    "newFile.close()"
   ]
  },
  {
   "cell_type": "code",
   "execution_count": null,
   "metadata": {},
   "outputs": [],
   "source": [
    "python -m pip install --upgrade pip"
   ]
  },
  {
   "cell_type": "code",
   "execution_count": null,
   "metadata": {},
   "outputs": [],
   "source": []
  },
  {
   "cell_type": "code",
   "execution_count": null,
   "metadata": {},
   "outputs": [],
   "source": []
  },
  {
   "cell_type": "code",
   "execution_count": null,
   "metadata": {},
   "outputs": [],
   "source": []
  },
  {
   "cell_type": "code",
   "execution_count": null,
   "metadata": {},
   "outputs": [],
   "source": []
  },
  {
   "cell_type": "code",
   "execution_count": null,
   "metadata": {},
   "outputs": [],
   "source": []
  }
 ],
 "metadata": {
  "kernelspec": {
   "display_name": "Python 3",
   "language": "python",
   "name": "python3"
  },
  "language_info": {
   "codemirror_mode": {
    "name": "ipython",
    "version": 3
   },
   "file_extension": ".py",
   "mimetype": "text/x-python",
   "name": "python",
   "nbconvert_exporter": "python",
   "pygments_lexer": "ipython3",
   "version": "3.7.1"
  }
 },
 "nbformat": 4,
 "nbformat_minor": 2
}
