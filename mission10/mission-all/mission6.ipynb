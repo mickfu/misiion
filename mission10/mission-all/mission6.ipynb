{
 "cells": [
  {
   "cell_type": "code",
   "execution_count": null,
   "metadata": {},
   "outputs": [],
   "source": [
    "\n",
    "#主旨:用get方法訪問端口時,回傳json\n",
    "\n",
    "\n",
    "#安裝套件-先有套件才能運作\n",
    "!pip install flask\n",
    "\n",
    "#引用套件-抓了沒用等於沒用\n",
    "from flask import Flask, request, abort, jsonify\n",
    "\n",
    "#flask這個應用的啟動點\n",
    "app = Flask(__name__,static_url_path = \"/images\" , static_folder = \"./images/\" )\n",
    "\n",
    "#為這個啟動點增加訪問路徑'/'\n",
    "@app.route('/',methods=['GET'])\n",
    "def hello_world():\n",
    "\n",
    "#回傳{'userId':1,'userName':'xiaoming'}給訪問者\n",
    "    t = {'userId':1,'userName':'xiaoming'}\n",
    "    return jsonify(t)\n",
    "\n",
    "#啟用app\n",
    "if __name__ == \"__main__\":\n",
    "    app.run(host='0.0.0.0')\n",
    "    "
   ]
  },
  {
   "cell_type": "code",
   "execution_count": null,
   "metadata": {},
   "outputs": [],
   "source": []
  },
  {
   "cell_type": "code",
   "execution_count": null,
   "metadata": {},
   "outputs": [],
   "source": []
  }
 ],
 "metadata": {
  "kernelspec": {
   "display_name": "Python 3",
   "language": "python",
   "name": "python3"
  },
  "language_info": {
   "codemirror_mode": {
    "name": "ipython",
    "version": 3
   },
   "file_extension": ".py",
   "mimetype": "text/x-python",
   "name": "python",
   "nbconvert_exporter": "python",
   "pygments_lexer": "ipython3",
   "version": "3.7.1"
  }
 },
 "nbformat": 4,
 "nbformat_minor": 2
}
